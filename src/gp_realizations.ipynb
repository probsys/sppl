{
 "cells": [
  {
   "cell_type": "code",
   "execution_count": 182,
   "id": "aff27098",
   "metadata": {},
   "outputs": [],
   "source": [
    "import numpy as np\n",
    "\n",
    "class Kernel:\n",
    "    def f(self, x1, x2):\n",
    "        raise NotImplementedError()\n",
    "    def f_mat(self, x):\n",
    "        raise NotImplementedError()\n",
    "\n",
    "class WhiteNoise(Kernel):\n",
    "    def __init__(self, scale):\n",
    "        self.scale = scale\n",
    "    def f(self, x1, x2):\n",
    "        return self.scale * (x1 == x2)\n",
    "    def f_mat(self, x):\n",
    "        return self.scale * np.eye(len(x))\n",
    "\n",
    "class Constant(Kernel):\n",
    "    def __init__(self, value):\n",
    "        self.value = value\n",
    "    def f(self, x1, x2):\n",
    "        return self.value\n",
    "    def f_mat(self, x):\n",
    "        n = len(x)\n",
    "        return self.value * np.ones((n, n))\n",
    "\n",
    "class Linear(Kernel):\n",
    "    def __init__(self, intercept):\n",
    "        self.intercept = intercept\n",
    "    def f(self, x1, x2):\n",
    "        return (x1 - self.intercept) * (x2 - self.intercept)\n",
    "    def f_mat(self, x):\n",
    "        xs_minus_intercept = np.asarray(x) - self.intercept\n",
    "        return np.outer(xs_minus_intercept, xs_minus_intercept)\n",
    "\n",
    "class SquaredExponential(Kernel):\n",
    "    def __init__(self, scale):\n",
    "        self.scale = scale\n",
    "    def f(self, x1, x2):\n",
    "        return np.exp(-.5 * (x1 - x2) * (x1 - x2) / self.scale)\n",
    "    def f_mat(self, x):\n",
    "        dx = np.subtract.outer(x, x)\n",
    "        return np.exp(-0.5 * dx * dx / self.scale)\n",
    "\n",
    "class Periodic(Kernel):\n",
    "    def __init__(self, scale, period):\n",
    "        self.scale = scale\n",
    "        self.period = period\n",
    "    def f(self, x1, x2):\n",
    "        freq = 2 * np.pi / self.period\n",
    "        return np.exp((-1. / self.scale) * (np.sin(freq * abs(x1 - x2)))**2)\n",
    "    def f_mat(self, x):\n",
    "        freq = 2 * np.pi / self.period\n",
    "        dx = np.subtract.outer(x, x)\n",
    "        return np.exp((-1. / self.scale) * (np.sin(freq * abs(dx)))**2)\n",
    "\n",
    "class Plus(Kernel):\n",
    "    def __init__(self, K, H):\n",
    "        self.K = K\n",
    "        self.H = H\n",
    "    def f(self, x1, x2):\n",
    "        return self.K.f(x1, x2) + self.H.f(x1, x2)\n",
    "    def f_mat(self, x):\n",
    "        return self.K.f_mat(x) + self.H.f_mat(x)\n",
    "\n",
    "class Times(Kernel):\n",
    "    def __init__(self, K, H):\n",
    "        self.K = K\n",
    "        self.H = H\n",
    "    def f(self, x1, x2):\n",
    "        return self.K.f(x1, x2) * self.H.f(x1, x2)\n",
    "    def f_mat(self, x):\n",
    "        return self.K.f_mat(x) * self.H.f_mat(x)\n",
    "\n",
    "def sigma_cp(x, location, scale):\n",
    "    return .5 * (1 + np.tanh((location - x) / scale))\n",
    "\n",
    "class ChangePoint(Kernel):\n",
    "    def __init__(self, K, H, location, scale):\n",
    "        self.K = K\n",
    "        self.H = H\n",
    "        self.location = location\n",
    "        self.scale = scale\n",
    "    def f(self, x1, x2):\n",
    "        sigma_x1 = sigma_cp(x1, self.location, self.scale)\n",
    "        sigma_x2 = sigma_cp(x2, self.location, self.scale)\n",
    "        cov_K = sigma_x1 * self.K.f(x1, x2) * sigma_x2\n",
    "        cov_H = (1 - sigma_x1) * self.H.f(x1, x2) * (1 - sigma_x2)\n",
    "        return cov_K + cov_H\n",
    "    def f_mat(self, x):\n",
    "        change_x = sigma_cp(x, self.location, self.scale)\n",
    "        sig_1 = np.outer(change_x, change_x)\n",
    "        sig_2 = np.outer(1 - change_x, 1 - change_x)\n",
    "        cov_K = self.K.f_mat(x)\n",
    "        cov_H = self.H.f_mat(x)\n",
    "        return sig_1 * cov_K + sig_2 * cov_H"
   ]
  },
  {
   "cell_type": "code",
   "execution_count": 183,
   "id": "3830e203",
   "metadata": {},
   "outputs": [],
   "source": [
    "from scipy.stats import multivariate_normal\n",
    "import matplotlib.pyplot as plt"
   ]
  },
  {
   "cell_type": "code",
   "execution_count": 184,
   "id": "e9b492d1",
   "metadata": {},
   "outputs": [],
   "source": [
    "xs = np.linspace(0, 10, 100)"
   ]
  },
  {
   "cell_type": "code",
   "execution_count": 185,
   "id": "ce8ba26b",
   "metadata": {},
   "outputs": [
    {
     "data": {
      "image/png": "[encoded data removed]",
      "text/plain": [
       "<Figure size 216x216 with 1 Axes>"
      ]
     },
     "metadata": {},
     "output_type": "display_data"
    }
   ],
   "source": [
    "cov = SquaredExponential(1.5)\n",
    "M = cov.f_mat(xs)\n",
    "ys = multivariate_normal.rvs(np.zeros(len(xs)), M, size=10)\n",
    "fig, ax = plt.subplots()\n",
    "for i in range(1):\n",
    "    ax.plot(xs, ys[i], color='k', linewidth=1.5)\n",
    "ax.set_xticks([])\n",
    "ax.set_yticks([])\n",
    "fig.set_size_inches(3,3)\n",
    "fig.set_tight_layout(True)\n",
    "fig.savefig('/tmp/gp-fig-1.png', dpi=200)"
   ]
  },
  {
   "cell_type": "code",
   "execution_count": 189,
   "id": "e6452ede",
   "metadata": {},
   "outputs": [
    {
     "data": {
      "image/png": "[encoded data removed]",
      "text/plain": [
       "<Figure size 216x216 with 1 Axes>"
      ]
     },
     "metadata": {},
     "output_type": "display_data"
    }
   ],
   "source": [
    "cov = Times(Linear(0.1), Periodic(50, 3))\n",
    "M = cov.f_mat(xs)\n",
    "ys = multivariate_normal.rvs(np.zeros(len(xs)), M, size=5)\n",
    "fig, ax = plt.subplots()\n",
    "for i in range(1):\n",
    "    ax.plot(xs, ys[i], color='k', linewidth=1.5)\n",
    "ax.set_xticks([])\n",
    "ax.set_yticks([])\n",
    "fig.set_size_inches(3,3)\n",
    "fig.set_tight_layout(True)\n",
    "fig.savefig('/tmp/gp-fig-2.png', dpi=200)"
   ]
  },
  {
   "cell_type": "code",
   "execution_count": 199,
   "id": "f09808d3",
   "metadata": {},
   "outputs": [
    {
     "data": {
      "image/png": "[encoded data removed]",
      "text/plain": [
       "<Figure size 216x216 with 1 Axes>"
      ]
     },
     "metadata": {},
     "output_type": "display_data"
    }
   ],
   "source": [
    "cov = ChangePoint(Plus(Linear(1), WhiteNoise(0.01)), Periodic(10, 2), 5, 0.5)\n",
    "M = cov.f_mat(xs)\n",
    "ys = multivariate_normal.rvs(np.zeros(len(xs)), M, size=10)\n",
    "fig, ax = plt.subplots()\n",
    "for i in range(1):\n",
    "    ax.plot(xs, ys[i], color='k', linewidth=1)\n",
    "ax.set_xticks([])\n",
    "ax.set_yticks([])\n",
    "fig.set_size_inches(3,3)\n",
    "fig.set_tight_layout(True)\n",
    "fig.savefig('/tmp/gp-fig-3.png', dpi=200)"
   ]
  }
 ],
 "metadata": {
  "kernelspec": {
   "display_name": "Python 3",
   "language": "python",
   "name": "python3"
  },
  "language_info": {
   "codemirror_mode": {
    "name": "ipython",
    "version": 3
   },
   "file_extension": ".py",
   "mimetype": "text/x-python",
   "name": "python",
   "nbconvert_exporter": "python",
   "pygments_lexer": "ipython3",
   "version": "3.8.10"
  }
 },
 "nbformat": 4,
 "nbformat_minor": 5
}
